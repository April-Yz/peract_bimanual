{
 "cells": [
  {
   "cell_type": "code",
   "execution_count": 1,
   "metadata": {},
   "outputs": [
    {
     "name": "stderr",
     "output_type": "stream",
     "text": [
      "/data1/zjyang/anaconda3/envs/SAM/lib/python3.9/site-packages/tqdm/auto.py:21: TqdmWarning: IProgress not found. Please update jupyter and ipywidgets. See https://ipywidgets.readthedocs.io/en/stable/user_install.html\n",
      "  from .autonotebook import tqdm as notebook_tqdm\n"
     ]
    }
   ],
   "source": [
    "import torch\n",
    "import torch.nn as nn\n",
    "loss = nn.CrossEntropyLoss()\n",
    "input = torch.randn(3, 5, requires_grad=True)\n",
    "target = torch.empty(3, dtype=torch.long).random_(5)\n",
    "output = loss(input, target)"
   ]
  },
  {
   "cell_type": "code",
   "execution_count": 2,
   "metadata": {},
   "outputs": [
    {
     "data": {
      "text/plain": [
       "tensor(1.6274, grad_fn=<NllLossBackward0>)"
      ]
     },
     "execution_count": 2,
     "metadata": {},
     "output_type": "execute_result"
    }
   ],
   "source": [
    "output"
   ]
  },
  {
   "cell_type": "code",
   "execution_count": 19,
   "metadata": {},
   "outputs": [],
   "source": [
    "def custom_cross_entropy(logits, target):\n",
    "    # 获取 logits 的 shape\n",
    "    batch_size = logits.size(0)\n",
    "    \n",
    "    # 使用 Softmax 计算概率\n",
    "    probs = torch.exp(logits) / torch.sum(torch.exp(logits), dim=1, keepdim=True)\n",
    "    \n",
    "    # 选择对应于目标类别的概率\n",
    "    log_probs = torch.log(probs[range(batch_size), target])\n",
    "    \n",
    "    # 计算交叉熵损失\n",
    "    loss = -torch.mean(log_probs)\n",
    "    return loss"
   ]
  },
  {
   "cell_type": "code",
   "execution_count": 30,
   "metadata": {},
   "outputs": [
    {
     "name": "stdout",
     "output_type": "stream",
     "text": [
      "tensor(0., grad_fn=<NllLossBackward0>)\n",
      "tensor(0.5514, grad_fn=<NegBackward0>)\n",
      "tensor(-1., grad_fn=<NllLossBackward0>)\n"
     ]
    }
   ],
   "source": [
    "import torch\n",
    "import torch.nn as nn\n",
    "import torch.nn.functional as F\n",
    "loss = nn.CrossEntropyLoss()\n",
    "criterion_nll = nn.NLLLoss()\n",
    "input = torch.tensor([[1.0, 0.0, 0.0,],\n",
    "                      [0.0, 1.0, 0.0,],\n",
    "                      [0.0, 0.0, 1.0,]], requires_grad=True)\n",
    "# input = torch.tensor([[0.9, 0.8, 0.7,],\n",
    "#                       [0.0, 1.0, 0.0,],\n",
    "#                       [0.0, 0.0, 1.0,]], requires_grad=True)\n",
    "target = torch.tensor([0,1,2], dtype=torch.long)\n",
    "output = loss(input*100, target)\n",
    "output1 = custom_cross_entropy(input, target)\n",
    "# log_probs = F.log_softmax(input, dim=1)\n",
    "log_probs = input\n",
    "loss_nll = criterion_nll(log_probs, target)\n",
    "print(output)\n",
    "print(output1)\n",
    "print(loss_nll)"
   ]
  },
  {
   "cell_type": "code",
   "execution_count": 17,
   "metadata": {},
   "outputs": [
    {
     "name": "stdout",
     "output_type": "stream",
     "text": [
      "tensor(0.7016, grad_fn=<NllLossBackward0>)\n"
     ]
    }
   ],
   "source": [
    "import torch\n",
    "import torch.nn as nn\n",
    "loss = nn.CrossEntropyLoss()\n",
    "input = torch.tensor([[0.9, 0.8, 0.7,],\n",
    "                      [0.0, 1.0, 0.0,],\n",
    "                      [0.0, 0.0, 1.0,]], requires_grad=True)\n",
    "target = torch.tensor([0,1,2], dtype=torch.long)\n",
    "output = loss(input, target)\n",
    "print(output)"
   ]
  },
  {
   "cell_type": "code",
   "execution_count": 18,
   "metadata": {},
   "outputs": [
    {
     "name": "stdout",
     "output_type": "stream",
     "text": [
      "tensor(1.0986, grad_fn=<NllLossBackward0>)\n"
     ]
    }
   ],
   "source": [
    "import torch\n",
    "import torch.nn as nn\n",
    "loss = nn.CrossEntropyLoss()\n",
    "input = torch.tensor([[0.0, 0.0, 0.0,],\n",
    "                      [0.0, 0.0, 0.0,],\n",
    "                      [0.0, 0.0, 0.0,]], requires_grad=True)\n",
    "target = torch.tensor([0,1,2], dtype=torch.long)\n",
    "output = loss(input, target)\n",
    "print(output)"
   ]
  },
  {
   "cell_type": "code",
   "execution_count": 12,
   "metadata": {},
   "outputs": [
    {
     "name": "stdout",
     "output_type": "stream",
     "text": [
      "tensor(0.0134, grad_fn=<NllLossBackward0>)\n"
     ]
    }
   ],
   "source": [
    "import torch\n",
    "import torch.nn as nn\n",
    "loss = nn.CrossEntropyLoss()\n",
    "input = torch.tensor([[5.0, 0.0, 0.0,],\n",
    "                      [0.0, 5.0, 0.0,],\n",
    "                      [0.0, 0.0, 5.0,]], requires_grad=True)\n",
    "target = torch.tensor([0,1,2], dtype=torch.long)\n",
    "output = loss(input, target)\n",
    "print(output)"
   ]
  },
  {
   "cell_type": "code",
   "execution_count": 13,
   "metadata": {},
   "outputs": [
    {
     "name": "stdout",
     "output_type": "stream",
     "text": [
      "tensor(0., grad_fn=<NllLossBackward0>)\n"
     ]
    }
   ],
   "source": [
    "import torch\n",
    "import torch.nn as nn\n",
    "loss = nn.CrossEntropyLoss()\n",
    "input = torch.tensor([[1e8, 0.0, 0.0,],\n",
    "                      [0.0, 1e8, 0.0,],\n",
    "                      [0.0, 0.0, 1e8,]], requires_grad=True)\n",
    "target = torch.tensor([0,1,2], dtype=torch.long)\n",
    "output = loss(input, target)\n",
    "print(output)"
   ]
  }
 ],
 "metadata": {
  "kernelspec": {
   "display_name": "SAM",
   "language": "python",
   "name": "python3"
  },
  "language_info": {
   "codemirror_mode": {
    "name": "ipython",
    "version": 3
   },
   "file_extension": ".py",
   "mimetype": "text/x-python",
   "name": "python",
   "nbconvert_exporter": "python",
   "pygments_lexer": "ipython3",
   "version": "3.9.20"
  }
 },
 "nbformat": 4,
 "nbformat_minor": 2
}
